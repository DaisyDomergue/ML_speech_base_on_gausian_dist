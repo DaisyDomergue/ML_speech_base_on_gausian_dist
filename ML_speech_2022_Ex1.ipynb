{
  "nbformat": 4,
  "nbformat_minor": 0,
  "metadata": {
    "colab": {
      "name": "ML-speech-2022-Ex1.ipynb",
      "provenance": [],
      "collapsed_sections": [],
      "include_colab_link": true
    },
    "kernelspec": {
      "name": "python3",
      "display_name": "Python 3"
    }
  },
  "cells": [
    {
      "cell_type": "markdown",
      "metadata": {
        "id": "view-in-github",
        "colab_type": "text"
      },
      "source": [
        "<a href=\"https://colab.research.google.com/github/DaisyDomergue/ML_speech_base_on_gausian_dist/blob/main/ML_speech_2022_Ex1.ipynb\" target=\"_parent\"><img src=\"https://colab.research.google.com/assets/colab-badge.svg\" alt=\"Open In Colab\"/></a>"
      ]
    },
    {
      "cell_type": "markdown",
      "metadata": {
        "id": "1-KfCVFlcugC"
      },
      "source": [
        "## Machine Learning for Speech - **Exercise 1**\n",
        "**Instructor**: Xuechen Liu (xuecliu@uef.fi)\n",
        "\n",
        "### Goals of this exercise\n",
        "* Grab basics of Python and Google Colab\n",
        "* Learn how to load waveform signal from files in multiple ways using python packages and perform basic analysis\n",
        "* Have a glance on a representative signal processing step\n",
        "* Perform simple gender recognition based on F0\n",
        "---\n",
        "\n",
        "\n",
        "\n",
        "### Scoring (time given)\n",
        "* **Prob.1**: 5 points (20 min)\n",
        "* **Prob.2**: 5 points (40 min)"
      ]
    },
    {
      "cell_type": "markdown",
      "metadata": {
        "id": "xKKR8BFRrPnq"
      },
      "source": [
        "## Introduction (and how to make submission)\n",
        "\n",
        "### Programming\n",
        "Throughout this course we use Python as the main programming language. A gentle introduction of Python 3 can be found at [this link](https://www.tutorialspoint.com/python3/index.htm). For this week's exercise (and probably later weeks'?) students are not required to use advanced methods so one can refresh/learn only basic parts. But of course if you have some programming experience, you will surely be comfortable on refreshing them all.\n",
        "\n",
        "Apart from basic Python knowledge and more interesting packages and libraries which will be visited later, we heavily rely on:\n",
        "* Numpy for numerical computation (and minor signal analysis). An intuitive introduction can be found in [this Nature paper](https://www.nature.com/articles/s41586-020-2649-2);\n",
        "* Matplotlib for visualization.\n",
        "* PyTorch for basic machine learning related implementations.\n",
        "* (optional) SpeechBrain for running experiments for most of the given projects.\n",
        "\n",
        "In case students want to have a more compact tutorial:\n",
        "* Tutorial on those libraries in a Colab page, from Trung Ngo Trong [link](https://colab.research.google.com/drive/1ISbtr5WV-77uR_ToZyF490SSSMVWQ_Mn?usp=sharing). \n",
        "* [Numpy tutorial, from Stanford CS231n](https://colab.research.google.com/github/cs231n/cs231n.github.io/blob/master/python-colab.ipynb?fbclid=IwAR3kZTcxqJnSdB_BIrOH8A0Cv_cVHAOPEZ3MJbMP1EJlGiP4KWRt6TlR0xU)\n",
        "\n",
        "### How to answer questions - **IMPORTANT**\n",
        "To answer open-ended questions: _**you simply create empty space under the question and provide your answers!**_ Of course, if you want to do some typesetting, you may need some knowledge on [markdown](https://www.google.com/search?q=markdown+tutorial&oq=markdown+tutorial&aqs=chrome..69i57.2526j0j1&sourceid=chrome&ie=UTF-8) and [latex equations](https://www.overleaf.com/learn/latex/mathematical_expressions). For your reference, this note is written in Markdown.\n",
        "\n",
        "### How to make submission - **IMPORTANT**\n",
        "<!-- **File** $\\to$ **Download .ipynb** $\\to$ _Compress the .ipynb file to PDF and send the PDF to submit it to digicampus, or to instructors' email (as a back-up only)_. -->\n",
        "You can click **File** $\\to$ **print** and choose \"save to PDF\" according to your operating system. Xuechen have tested and validated such method on MacOS and Ubuntu 20.04.\n",
        "\n",
        "Note 1: Please re-name the PDF to your name and student number. Any modification/submission after the deadline will be disregarded.\n",
        "\n",
        "Note 2: Please make sure your answers are included in generated PDF 😂"
      ]
    },
    {
      "cell_type": "markdown",
      "metadata": {
        "id": "LV6YGvaDK-ZW"
      },
      "source": [
        "## Programming exercise 1: Basic I/O and visuals (5 points)\n",
        "For this week you are asked to familiarize youself with some pythonic audio packages and perform some basic analysis on loaded waveform/signal.\n",
        "\n",
        "So the very first task would be load waveform. Please run the code below to:\n",
        "* Download the wav files to your local space\n",
        "* Install packages we are going to use via a tool called [pip](https://pypi.org/project/pip/). People who use Python should be familiar with this guy (although there are some minor discussion on its potential problems compared with installing directly via source package). For people who does not familiar with Python, it will be very useful for this course to install packages under pythonic environments - this notebook, for example.\n",
        "\n",
        "---\n",
        "\n",
        "\n"
      ]
    },
    {
      "cell_type": "code",
      "metadata": {
        "id": "xlxTtmnjWeD4",
        "colab": {
          "base_uri": "https://localhost:8080/",
          "height": 0
        },
        "outputId": "29e71e52-14f4-407d-9e8f-4605a766258a"
      },
      "source": [
        "# Once you execute this block, the files are downloaded and stored temporaily in\n",
        "# the allocated space. You can click the small folder icon at left-hand side\n",
        "# to see them.\n",
        "!wget -nc https://underdogliu.github.io/assets/ml_speech_2022/Im_Superman.wav\n",
        "!wget -nc https://underdogliu.github.io/assets/ml_speech_2022/Count_Of_Three-8khz.wav\n",
        "\n",
        "!pip install pysoundfile\n",
        "!pip install numpy matplotlib \n",
        "!pip install librosa\n",
        "!pip install python_speech_features\n",
        "\n",
        "import glob\n",
        "import numpy as np\n",
        "import librosa\n",
        "import python_speech_features\n",
        "import soundfile\n",
        "import matplotlib.pyplot as plt\n",
        "\n",
        "import seaborn as sns\n",
        "from scipy import stats\n",
        "from librosa import load, note_to_hz, pyin\n",
        "\n",
        "sns.set()"
      ],
      "execution_count": 1,
      "outputs": [
        {
          "output_type": "stream",
          "name": "stdout",
          "text": [
            "--2022-03-24 11:55:57--  https://underdogliu.github.io/assets/ml_speech_2022/Im_Superman.wav\n",
            "Resolving underdogliu.github.io (underdogliu.github.io)... 185.199.108.153, 185.199.109.153, 185.199.110.153, ...\n",
            "Connecting to underdogliu.github.io (underdogliu.github.io)|185.199.108.153|:443... connected.\n",
            "HTTP request sent, awaiting response... 200 OK\n",
            "Length: 823996 (805K) [audio/wav]\n",
            "Saving to: ‘Im_Superman.wav’\n",
            "\n",
            "\rIm_Superman.wav       0%[                    ]       0  --.-KB/s               \rIm_Superman.wav     100%[===================>] 804.68K  --.-KB/s    in 0.05s   \n",
            "\n",
            "2022-03-24 11:55:57 (17.3 MB/s) - ‘Im_Superman.wav’ saved [823996/823996]\n",
            "\n",
            "--2022-03-24 11:55:57--  https://underdogliu.github.io/assets/ml_speech_2022/Count_Of_Three-8khz.wav\n",
            "Resolving underdogliu.github.io (underdogliu.github.io)... 185.199.108.153, 185.199.109.153, 185.199.110.153, ...\n",
            "Connecting to underdogliu.github.io (underdogliu.github.io)|185.199.108.153|:443... connected.\n",
            "HTTP request sent, awaiting response... 200 OK\n",
            "Length: 50384 (49K) [audio/wav]\n",
            "Saving to: ‘Count_Of_Three-8khz.wav’\n",
            "\n",
            "Count_Of_Three-8khz 100%[===================>]  49.20K  --.-KB/s    in 0.01s   \n",
            "\n",
            "2022-03-24 11:55:58 (4.66 MB/s) - ‘Count_Of_Three-8khz.wav’ saved [50384/50384]\n",
            "\n",
            "Collecting pysoundfile\n",
            "  Downloading PySoundFile-0.9.0.post1-py2.py3-none-any.whl (24 kB)\n",
            "Requirement already satisfied: cffi>=0.6 in /usr/local/lib/python3.7/dist-packages (from pysoundfile) (1.15.0)\n",
            "Requirement already satisfied: pycparser in /usr/local/lib/python3.7/dist-packages (from cffi>=0.6->pysoundfile) (2.21)\n",
            "Installing collected packages: pysoundfile\n",
            "Successfully installed pysoundfile-0.9.0.post1\n",
            "Requirement already satisfied: numpy in /usr/local/lib/python3.7/dist-packages (1.21.5)\n",
            "Requirement already satisfied: matplotlib in /usr/local/lib/python3.7/dist-packages (3.2.2)\n",
            "Requirement already satisfied: pyparsing!=2.0.4,!=2.1.2,!=2.1.6,>=2.0.1 in /usr/local/lib/python3.7/dist-packages (from matplotlib) (3.0.7)\n",
            "Requirement already satisfied: kiwisolver>=1.0.1 in /usr/local/lib/python3.7/dist-packages (from matplotlib) (1.4.0)\n",
            "Requirement already satisfied: cycler>=0.10 in /usr/local/lib/python3.7/dist-packages (from matplotlib) (0.11.0)\n",
            "Requirement already satisfied: python-dateutil>=2.1 in /usr/local/lib/python3.7/dist-packages (from matplotlib) (2.8.2)\n",
            "Requirement already satisfied: typing-extensions in /usr/local/lib/python3.7/dist-packages (from kiwisolver>=1.0.1->matplotlib) (3.10.0.2)\n",
            "Requirement already satisfied: six>=1.5 in /usr/local/lib/python3.7/dist-packages (from python-dateutil>=2.1->matplotlib) (1.15.0)\n",
            "Requirement already satisfied: librosa in /usr/local/lib/python3.7/dist-packages (0.8.1)\n",
            "Requirement already satisfied: audioread>=2.0.0 in /usr/local/lib/python3.7/dist-packages (from librosa) (2.1.9)\n",
            "Requirement already satisfied: resampy>=0.2.2 in /usr/local/lib/python3.7/dist-packages (from librosa) (0.2.2)\n",
            "Requirement already satisfied: scikit-learn!=0.19.0,>=0.14.0 in /usr/local/lib/python3.7/dist-packages (from librosa) (1.0.2)\n",
            "Requirement already satisfied: scipy>=1.0.0 in /usr/local/lib/python3.7/dist-packages (from librosa) (1.4.1)\n",
            "Requirement already satisfied: packaging>=20.0 in /usr/local/lib/python3.7/dist-packages (from librosa) (21.3)\n",
            "Requirement already satisfied: pooch>=1.0 in /usr/local/lib/python3.7/dist-packages (from librosa) (1.6.0)\n",
            "Requirement already satisfied: joblib>=0.14 in /usr/local/lib/python3.7/dist-packages (from librosa) (1.1.0)\n",
            "Requirement already satisfied: numpy>=1.15.0 in /usr/local/lib/python3.7/dist-packages (from librosa) (1.21.5)\n",
            "Requirement already satisfied: numba>=0.43.0 in /usr/local/lib/python3.7/dist-packages (from librosa) (0.51.2)\n",
            "Requirement already satisfied: decorator>=3.0.0 in /usr/local/lib/python3.7/dist-packages (from librosa) (4.4.2)\n",
            "Requirement already satisfied: soundfile>=0.10.2 in /usr/local/lib/python3.7/dist-packages (from librosa) (0.10.3.post1)\n",
            "Requirement already satisfied: setuptools in /usr/local/lib/python3.7/dist-packages (from numba>=0.43.0->librosa) (57.4.0)\n",
            "Requirement already satisfied: llvmlite<0.35,>=0.34.0.dev0 in /usr/local/lib/python3.7/dist-packages (from numba>=0.43.0->librosa) (0.34.0)\n",
            "Requirement already satisfied: pyparsing!=3.0.5,>=2.0.2 in /usr/local/lib/python3.7/dist-packages (from packaging>=20.0->librosa) (3.0.7)\n",
            "Requirement already satisfied: appdirs>=1.3.0 in /usr/local/lib/python3.7/dist-packages (from pooch>=1.0->librosa) (1.4.4)\n",
            "Requirement already satisfied: requests>=2.19.0 in /usr/local/lib/python3.7/dist-packages (from pooch>=1.0->librosa) (2.23.0)\n",
            "Requirement already satisfied: idna<3,>=2.5 in /usr/local/lib/python3.7/dist-packages (from requests>=2.19.0->pooch>=1.0->librosa) (2.10)\n",
            "Requirement already satisfied: chardet<4,>=3.0.2 in /usr/local/lib/python3.7/dist-packages (from requests>=2.19.0->pooch>=1.0->librosa) (3.0.4)\n",
            "Requirement already satisfied: urllib3!=1.25.0,!=1.25.1,<1.26,>=1.21.1 in /usr/local/lib/python3.7/dist-packages (from requests>=2.19.0->pooch>=1.0->librosa) (1.24.3)\n",
            "Requirement already satisfied: certifi>=2017.4.17 in /usr/local/lib/python3.7/dist-packages (from requests>=2.19.0->pooch>=1.0->librosa) (2021.10.8)\n",
            "Requirement already satisfied: six>=1.3 in /usr/local/lib/python3.7/dist-packages (from resampy>=0.2.2->librosa) (1.15.0)\n",
            "Requirement already satisfied: threadpoolctl>=2.0.0 in /usr/local/lib/python3.7/dist-packages (from scikit-learn!=0.19.0,>=0.14.0->librosa) (3.1.0)\n",
            "Requirement already satisfied: cffi>=1.0 in /usr/local/lib/python3.7/dist-packages (from soundfile>=0.10.2->librosa) (1.15.0)\n",
            "Requirement already satisfied: pycparser in /usr/local/lib/python3.7/dist-packages (from cffi>=1.0->soundfile>=0.10.2->librosa) (2.21)\n",
            "Collecting python_speech_features\n",
            "  Downloading python_speech_features-0.6.tar.gz (5.6 kB)\n",
            "Building wheels for collected packages: python-speech-features\n",
            "  Building wheel for python-speech-features (setup.py) ... \u001b[?25l\u001b[?25hdone\n",
            "  Created wheel for python-speech-features: filename=python_speech_features-0.6-py3-none-any.whl size=5888 sha256=05061eef266b33a43488cd13e7e7de7801b58c489f0f82842c77e58a2082b27d\n",
            "  Stored in directory: /root/.cache/pip/wheels/b0/0e/94/28cd6afa3cd5998a63eef99fe31777acd7d758f59cf24839eb\n",
            "Successfully built python-speech-features\n",
            "Installing collected packages: python-speech-features\n",
            "Successfully installed python-speech-features-0.6\n"
          ]
        }
      ]
    },
    {
      "cell_type": "markdown",
      "metadata": {
        "id": "h4jteyjKZQdJ"
      },
      "source": [
        "Next, we need to load the waveform and output the signal:"
      ]
    },
    {
      "cell_type": "code",
      "metadata": {
        "id": "wfb5W0X7dJTL"
      },
      "source": [
        "signal, _ = soundfile.read('Im_Superman.wav')"
      ],
      "execution_count": 3,
      "outputs": []
    },
    {
      "cell_type": "markdown",
      "metadata": {
        "id": "aqUPn1j2eBwD"
      },
      "source": [
        "Hope you just ran the code above without errors. If there is any error, please track te error via colab utilities.\n",
        "\n",
        "So the very first task is to plot the waveform via matplotlib. Specifically:\n",
        "1. Plot the waveform loaded from `Im_Superman.wav` using utilities from matplotlib. Plot title is name of wav file.\n",
        "2. Plot a random segment of signal. Let's say length of segment is 500. Plot title is $name_of_wav_file_500.\n",
        "3. Repeat the same for `Count_Of_three-8khz.wav`. Can you spot any difference between thoese two wavs? Can the differences be reflected by hearing the wave via your speaker/headphone?"
      ]
    },
    {
      "cell_type": "code",
      "metadata": {
        "id": "9t9BxSZBlVN9",
        "colab": {
          "base_uri": "https://localhost:8080/",
          "height": 319
        },
        "outputId": "5723be07-9ae4-43ef-b3e4-c0f4a2e41b04"
      },
      "source": [
        "# TODO Code answers to tasks 1-2\n",
        "import random\n",
        "\n",
        "\n",
        "ax1=plt.subplot(2,1,1)\n",
        "plt.title('Im_Superman.wav')\n",
        "plt.plot(signal)\n",
        "ax2=plt.subplot(2,1,2)\n",
        "\n",
        "starting_point = random.randint(0,(signal.size -500))\n",
        "print(starting_point)\n",
        "plt.title('Im_Superman.wav_500')\n",
        "plt.plot(signal)\n",
        "plt.xlim(starting_point,(starting_point+500))\n",
        "\n",
        "\n",
        "\n"
      ],
      "execution_count": 53,
      "outputs": [
        {
          "output_type": "stream",
          "name": "stdout",
          "text": [
            "328437\n"
          ]
        },
        {
          "output_type": "execute_result",
          "data": {
            "text/plain": [
              "(328437.0, 328937.0)"
            ]
          },
          "metadata": {},
          "execution_count": 53
        },
        {
          "output_type": "display_data",
          "data": {
            "text/plain": [
              "<Figure size 432x288 with 2 Axes>"
            ],
            "image/png": "[encoded data removed]"
          },
          "metadata": {
            "needs_background": "light"
          }
        }
      ]
    },
    {
      "cell_type": "code",
      "source": [
        "# TODO Code answers to tasks 3\n",
        "\n",
        "signal_count_of_three, _ = soundfile.read('Count_Of_Three-8khz.wav')\n",
        "starting_point2 = random.randint(0,(signal_count_of_three.size-500))\n",
        "\n",
        "ax1=plt.subplot(2,1,1)\n",
        "plt.title('Count_Of_Three-8khz.wav')\n",
        "plt.plot(signal_count_of_three)\n",
        "\n",
        "print(starting_point2)\n",
        "ax1=plt.subplot(2,1,2)\n",
        "plt.title('Count_Of_Three-8khz.wav_5')\n",
        "plt.plot(signal_count_of_three)\n",
        "plt.xlim(starting_point2,(starting_point2+500))\n",
        "Audio(signal_count_of_three, rate=sample_rate)"
      ],
      "metadata": {
        "id": "YuRUfuJTHRQM",
        "colab": {
          "base_uri": "https://localhost:8080/",
          "height": 319
        },
        "outputId": "2b97cc65-7140-4f70-9300-28add0960150"
      },
      "execution_count": 50,
      "outputs": [
        {
          "output_type": "stream",
          "name": "stdout",
          "text": [
            "1973\n"
          ]
        },
        {
          "output_type": "execute_result",
          "data": {
            "text/plain": [
              "(1973.0, 2473.0)"
            ]
          },
          "metadata": {},
          "execution_count": 50
        },
        {
          "output_type": "display_data",
          "data": {
            "text/plain": [
              "<Figure size 432x288 with 2 Axes>"
            ],
            "image/png": "[encoded data removed]"
          },
          "metadata": {
            "needs_background": "light"
          }
        }
      ]
    },
    {
      "cell_type": "markdown",
      "source": [
        "Question: Can you spot any difference between thoese two wavs? Can the differences be reflected by hearing the wave via your speaker/headphone?\n",
        "\n",
        "there is a significant rest between the counting in the second audio which creates flat section in the signal graph\n"
      ],
      "metadata": {
        "id": "85jSJbn0HXBT"
      }
    },
    {
      "cell_type": "markdown",
      "metadata": {
        "id": "0YPdakzJqi8F"
      },
      "source": [
        "## Programming exercise 2: Simple gender classification using F0 (5 points)\n",
        "Hint: Please revise [Tomi's demo code on F0](https://colab.research.google.com/drive/1PxxPN5nVLYw4ormrjZh8W9g1VWHISKwt?usp=sharing) this week for some hints.\n",
        "\n",
        "In the first week Tomi discussed a probabilistic classifier to predict a person's gender, based on the following assumptions:\n",
        "1. Two *exhaustive and mutually exclusive* classes, female ($F$) and male ($M$). These are the possible values of our **class label** (denoted by $y$).\n",
        "2. Flat/uninformative **prior** over the class variable: $P(M)=P(F)=\\frac{1}{2}$. This distribution encodes our prior belief on the relative commonality of each of our two classes, before any measurement or speech recording takes place. The prior might present your subjective opinion, hunch, or perhaps an educated guess (e.g. based on prior statistics how often male/female users use a particular service on which you plan to mount the gender detector on). Besides flat prior you may wish to have different prior probabilities --- as long as they are positive and sum up to 1.\n",
        "3. Our **observation** or **feature**, denoted by $x$, is the fundamental frequency (F0) in a given audio file (for instance, the **average** F0 value of all voiced speech frames). It is a non-negative real number. Here our measuring unit is Hertz (Hz).\n",
        "4. Our **observation model** for these features $x$ was assumed to be Gaussian (normal distribution). More specifically, we assume that a randomly picked F0 value within a given gender follows a Gaussian distribution.\n",
        "    \n",
        "\\begin{equation}\n",
        "p(x|M) = \\mathcal{N}(x|\\mu_\\text{M},\\sigma_M^2)=\\frac{1}{\\sqrt{2\\pi}\\sigma_M}e^{-\\frac{(x-\\mu_M)^2}{2\\sigma_M^2}}\\nonumber\n",
        "\\end{equation}\n",
        "\n",
        "\\begin{equation}\n",
        "p(x|F) = \\mathcal{N}(x|\\mu_\\text{M},\\sigma_F^2)=\\frac{1}{\\sqrt{2\\pi}\\sigma_F}e^{-\\frac{(x-\\mu_F)^2}{2\\sigma_F^2}}\\nonumber\n",
        "\\end{equation}\n",
        "\n",
        "Your tasks are as follows.\n",
        "1. **Parameter estimation based on training set.** In the lectures we used Wikipedia page for an *adhoc*, `pencil and paper' computation of the parameter values (means and variances for gender). Your task is to use **a labeled training dataset** --- pairs of F0 values and their gender labels $\\{(x_i, y_i)\\}_{i=1}^N$ --- to compute the parameters more objectively. More specifically, your task is to evaluate **sample mean** and **sample variance** for the parameters within each gender. Implement this parameter fitting process based on data provided by the instructors, and graph the resulting two probability density functions in the same figure (e.g. different colors for the genders).\n",
        "\n",
        "2. **Evaluating the gender detector.** Additionally, your task is to **objectively evaluate** how accurate your gender recognizer is. Keep in mind all the time that in this course we are interested in methods that operate on **unseen data**. In this case it means that you should use <u>different speakers</u> to find the parameter values, and for the evaluation of your classifier. As for the evaluation (on new speakers/new data $x$), simply **predict** the class label using Bayes' rule --- i.e., choosing the `more probable' class: \n",
        "\n",
        "\\begin{equation}\n",
        "    \\text{Gender}=\n",
        "    \\begin{cases}\n",
        "      \\text{male}, & \\text{if}\\ P(M|x) > P(F|x) \\\\\n",
        "      \\text{female}, & \\text{if}\\ P(M|x) \\leq P(F|x)\n",
        "    \\end{cases}\n",
        "\\end{equation}\n",
        "\n",
        "> This gives you a **prediction** of the gender based on data $x$. This prediction might be correct, or it might be wrong. Please report separately the number of errors in the two possible cases that we have:\n",
        "* Your classifier says `male` but the actual gender is `female`;\n",
        "* Your classifier says `female` but the actual gender is `male`.\n",
        "\n",
        "> You can try with either wav files recorded by yourself or sample wav files from Lauri as presented in his lecture. We provided the downloading and un-reveling code below.\n"
      ]
    },
    {
      "cell_type": "code",
      "metadata": {
        "id": "530nNqp2qrnd",
        "colab": {
          "base_uri": "https://localhost:8080/",
          "height": 0
        },
        "outputId": "1b9ff2b3-b823-4fb9-b3b1-f416da2bc540"
      },
      "source": [
        "# Task 1: Download the dataset voxceleb_f0.txt\n",
        "#\n",
        "# attributes of the file: \n",
        "# [SPEAKER_ID GENDER F0_VALUE]\n",
        "!wget -nc https://underdogliu.github.io/assets/ml_speech_2022/voxceleb_f0.txt\n",
        "\n",
        "# You can uncomment code below to check if loading is successful\n",
        "# with open('voxceleb_f0.txt', 'r') as v:\n",
        "#   for line in v:\n",
        "#     print(line)"
      ],
      "execution_count": 54,
      "outputs": [
        {
          "output_type": "stream",
          "name": "stdout",
          "text": [
            "--2022-03-24 12:54:33--  https://underdogliu.github.io/assets/ml_speech_2022/voxceleb_f0.txt\n",
            "Resolving underdogliu.github.io (underdogliu.github.io)... 185.199.109.153, 185.199.108.153, 185.199.111.153, ...\n",
            "Connecting to underdogliu.github.io (underdogliu.github.io)|185.199.109.153|:443... connected.\n",
            "HTTP request sent, awaiting response... 200 OK\n",
            "Length: 22804 (22K) [text/plain]\n",
            "Saving to: ‘voxceleb_f0.txt’\n",
            "\n",
            "\rvoxceleb_f0.txt       0%[                    ]       0  --.-KB/s               \rvoxceleb_f0.txt     100%[===================>]  22.27K  --.-KB/s    in 0.001s  \n",
            "\n",
            "2022-03-24 12:54:34 (17.8 MB/s) - ‘voxceleb_f0.txt’ saved [22804/22804]\n",
            "\n"
          ]
        }
      ]
    },
    {
      "cell_type": "code",
      "metadata": {
        "id": "pfytOJIRx2FL",
        "colab": {
          "base_uri": "https://localhost:8080/",
          "height": 0
        },
        "outputId": "c6e15264-fcd7-4487-b6bc-0d47b73ba366"
      },
      "source": [
        "# TODO Code answer to Task 1 \n",
        "# (please run the code block above first)\n",
        "import numpy as np\n",
        "import pandas as pd\n",
        "import scipy\n",
        "colnames=['ID', 'gender', 'f0'] \n",
        "data = pd.read_csv('voxceleb_f0.txt', names=colnames, sep=' ')\n",
        "mean_array = data.groupby(['gender']).mean()\n",
        "print(\"Mean of \",mean_array)\n",
        "variance_array=data.groupby(['gender']).std()\n",
        "print(\"Std of \",variance_array)\n"
      ],
      "execution_count": 106,
      "outputs": [
        {
          "output_type": "stream",
          "name": "stdout",
          "text": [
            "Mean of                  f0\n",
            "gender            \n",
            "f       201.362660\n",
            "m       134.197657\n",
            "Std of                 f0\n",
            "gender           \n",
            "f       39.835249\n",
            "m       32.351627\n"
          ]
        }
      ]
    },
    {
      "cell_type": "markdown",
      "metadata": {
        "id": "WD7l1hJ2zmXv"
      },
      "source": [
        "Question: What is the sample mean and variance for each gender from the training dataset?\n",
        "\n",
        "Mean            \n",
        "f       201.362660\n",
        "m       134.197657\n",
        "\n",
        "Std            \n",
        "f       39.835249\n",
        "m       32.351627\n"
      ]
    },
    {
      "cell_type": "code",
      "metadata": {
        "id": "JKyKyjfq8-KB",
        "colab": {
          "base_uri": "https://localhost:8080/",
          "height": 0
        },
        "outputId": "1c48e795-a686-4396-a00d-30d4aab318c5"
      },
      "source": [
        "# Task 2: Download and unzip the sample wavs\n",
        "!wget -nc https://gist.github.com/underdogliu/0f9535e668aa8e44a796297239bffb19/raw/877840f2a20293dc615614084a4e14d77f3fafbb/task2_eval_wavs.zip\n",
        "!unzip task2_eval_wavs.zip"
      ],
      "execution_count": 84,
      "outputs": [
        {
          "output_type": "stream",
          "name": "stdout",
          "text": [
            "--2022-03-24 13:23:59--  https://gist.github.com/underdogliu/0f9535e668aa8e44a796297239bffb19/raw/877840f2a20293dc615614084a4e14d77f3fafbb/task2_eval_wavs.zip\n",
            "Resolving gist.github.com (gist.github.com)... 140.82.113.4\n",
            "Connecting to gist.github.com (gist.github.com)|140.82.113.4|:443... connected.\n",
            "HTTP request sent, awaiting response... 301 Moved Permanently\n",
            "Location: https://gist.githubusercontent.com/underdogliu/0f9535e668aa8e44a796297239bffb19/raw/877840f2a20293dc615614084a4e14d77f3fafbb/task2_eval_wavs.zip [following]\n",
            "--2022-03-24 13:23:59--  https://gist.githubusercontent.com/underdogliu/0f9535e668aa8e44a796297239bffb19/raw/877840f2a20293dc615614084a4e14d77f3fafbb/task2_eval_wavs.zip\n",
            "Resolving gist.githubusercontent.com (gist.githubusercontent.com)... 185.199.109.133, 185.199.108.133, 185.199.111.133, ...\n",
            "Connecting to gist.githubusercontent.com (gist.githubusercontent.com)|185.199.109.133|:443... connected.\n",
            "HTTP request sent, awaiting response... 200 OK\n",
            "Length: 1151798 (1.1M) [application/zip]\n",
            "Saving to: ‘task2_eval_wavs.zip’\n",
            "\n",
            "task2_eval_wavs.zip 100%[===================>]   1.10M  --.-KB/s    in 0.05s   \n",
            "\n",
            "2022-03-24 13:24:00 (20.7 MB/s) - ‘task2_eval_wavs.zip’ saved [1151798/1151798]\n",
            "\n",
            "Archive:  task2_eval_wavs.zip\n",
            "   creating: sample_test_wavs/\n",
            "  inflating: __MACOSX/._sample_test_wavs  \n",
            "  inflating: sample_test_wavs/male3.wav  \n",
            "  inflating: __MACOSX/sample_test_wavs/._male3.wav  \n",
            "  inflating: sample_test_wavs/male2.wav  \n",
            "  inflating: __MACOSX/sample_test_wavs/._male2.wav  \n",
            "  inflating: sample_test_wavs/male1.wav  \n",
            "  inflating: __MACOSX/sample_test_wavs/._male1.wav  \n",
            "  inflating: sample_test_wavs/.DS_Store  \n",
            "  inflating: __MACOSX/sample_test_wavs/._.DS_Store  \n",
            "  inflating: sample_test_wavs/female2.wav  \n",
            "  inflating: __MACOSX/sample_test_wavs/._female2.wav  \n",
            "  inflating: sample_test_wavs/female1.wav  \n",
            "  inflating: __MACOSX/sample_test_wavs/._female1.wav  \n"
          ]
        }
      ]
    },
    {
      "cell_type": "code",
      "source": [
        "# files are stored in folder 'sample_test_wavs/'.\n",
        "# You can load files and check signal like below:\n",
        "signal, _ = soundfile.read('sample_test_wavs/male1.wav')\n",
        "print(signal) "
      ],
      "metadata": {
        "id": "nOjFrbLCGwkV",
        "colab": {
          "base_uri": "https://localhost:8080/",
          "height": 0
        },
        "outputId": "f1b07b26-349b-41ce-806e-af4a94176878"
      },
      "execution_count": 107,
      "outputs": [
        {
          "output_type": "stream",
          "name": "stdout",
          "text": [
            "[-0.00656128 -0.00576782 -0.00567627 ...  0.00872803  0.00195312\n",
            " -0.00244141]\n"
          ]
        }
      ]
    },
    {
      "cell_type": "code",
      "metadata": {
        "id": "7FqMbA6-y9yx",
        "colab": {
          "base_uri": "https://localhost:8080/",
          "height": 0
        },
        "outputId": "e81e9149-0fce-471a-80ef-da2a1d64559d"
      },
      "source": [
        "def calc_f0_librosa(wav_file):\n",
        "  y, sr = load(wav_file, sr=None)\n",
        "  f0, voiced_flag, voiced_probs = pyin(y,\n",
        "                                       fmin=note_to_hz('C2'),\n",
        "                                       fmax=note_to_hz('C7'),\n",
        "                                       sr=sr)\n",
        "  f0 = np.nanmean(f0)\n",
        "  return f0\n",
        "\n",
        "# TODO Code answer to Task 2\n",
        "def predict(f0):\n",
        "  male_prob = scipy.stats.norm(mean_array.iloc[1][0], variance_array.iloc[1][0]).pdf(f0)\n",
        "  female_prob = scipy.stats.norm(mean_array.iloc[0][0], variance_array.iloc[0][0]).pdf(f0)\n",
        "  print(\"For the value of \"+ str(f0) +\" male_prob \"+ str(male_prob) +\" female_prob \"+ str(female_prob))\n",
        "  if male_prob>female_prob:\n",
        "    return \"male\"\n",
        "  else:\n",
        "    return \"female\"\n",
        "\n",
        "for i in range(1,4):\n",
        "  f0 = calc_f0_librosa(\"sample_test_wavs/male\"+str(i)+\".wav\")\n",
        "  prediction = predict(f0)\n",
        "  print(f\"Male{i}: f0={f0} predicted: {prediction}\")\n",
        "\n",
        "for i in range(1,3):\n",
        "  f0 = calc_f0_librosa(\"sample_test_wavs/female\"+str(i)+\".wav\")\n",
        "  prediction = predict(f0)\n",
        "  print(f\"Female{i}: f0={f0} predicted: {prediction}\")"
      ],
      "execution_count": 108,
      "outputs": [
        {
          "output_type": "stream",
          "name": "stdout",
          "text": [
            "For the value of 105.6160595055043 male_prob 0.008346943145420978 female_prob 0.000557386051945329\n",
            "Male1: f0=105.6160595055043 predicted: male\n",
            "For the value of 113.01734994817689 male_prob 0.009952686496056358 female_prob 0.000856260029672889\n",
            "Male2: f0=113.01734994817689 predicted: male\n",
            "For the value of 157.97538386584824 male_prob 0.009412666402964879 female_prob 0.0055340570061919985\n",
            "Male3: f0=157.97538386584824 predicted: male\n",
            "For the value of 262.99699468409716 male_prob 4.458458415373535e-06 female_prob 0.0030255792615988923\n",
            "Female1: f0=262.99699468409716 predicted: female\n",
            "For the value of 174.47092002907294 male_prob 0.005682058592637301 female_prob 0.007974126761116706\n",
            "Female2: f0=174.47092002907294 predicted: female\n"
          ]
        }
      ]
    },
    {
      "cell_type": "markdown",
      "metadata": {
        "id": "AkCBCAZk-kBp"
      },
      "source": [
        "Question: if you misclassified speaker's gender via F0, what do you think can be the reason? Just one speculation shall suffice.\n",
        "\n",
        "(Answers here)\n",
        "It is misclassifing I highly suspect he value f0 somewhere in the midrange between the two values so can be confusing for the model to easily identify"
      ]
    }
  ]
}